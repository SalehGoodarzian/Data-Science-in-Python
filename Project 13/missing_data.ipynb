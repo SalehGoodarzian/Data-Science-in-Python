{
 "cells": [
  {
   "cell_type": "code",
   "execution_count": 1,
   "id": "dd8f8409",
   "metadata": {},
   "outputs": [
    {
     "data": {
      "text/html": [
       "<div>\n",
       "<style scoped>\n",
       "    .dataframe tbody tr th:only-of-type {\n",
       "        vertical-align: middle;\n",
       "    }\n",
       "\n",
       "    .dataframe tbody tr th {\n",
       "        vertical-align: top;\n",
       "    }\n",
       "\n",
       "    .dataframe thead th {\n",
       "        text-align: right;\n",
       "    }\n",
       "</style>\n",
       "<table border=\"1\" class=\"dataframe\">\n",
       "  <thead>\n",
       "    <tr style=\"text-align: right;\">\n",
       "      <th></th>\n",
       "      <th>ID</th>\n",
       "      <th>Mathematics</th>\n",
       "      <th>Physics</th>\n",
       "      <th>Arts</th>\n",
       "    </tr>\n",
       "  </thead>\n",
       "  <tbody>\n",
       "    <tr>\n",
       "      <th>Glenn</th>\n",
       "      <td>H342</td>\n",
       "      <td>NaN</td>\n",
       "      <td>19.0</td>\n",
       "      <td>17.0</td>\n",
       "    </tr>\n",
       "    <tr>\n",
       "      <th>Maria</th>\n",
       "      <td>H543</td>\n",
       "      <td>18.0</td>\n",
       "      <td>18.0</td>\n",
       "      <td>NaN</td>\n",
       "    </tr>\n",
       "    <tr>\n",
       "      <th>Tim</th>\n",
       "      <td>H129</td>\n",
       "      <td>NaN</td>\n",
       "      <td>NaN</td>\n",
       "      <td>18.0</td>\n",
       "    </tr>\n",
       "    <tr>\n",
       "      <th>Robert</th>\n",
       "      <td>H309</td>\n",
       "      <td>19.0</td>\n",
       "      <td>10.0</td>\n",
       "      <td>10.0</td>\n",
       "    </tr>\n",
       "    <tr>\n",
       "      <th>Eric</th>\n",
       "      <td>H219</td>\n",
       "      <td>20.0</td>\n",
       "      <td>NaN</td>\n",
       "      <td>15.0</td>\n",
       "    </tr>\n",
       "  </tbody>\n",
       "</table>\n",
       "</div>"
      ],
      "text/plain": [
       "          ID  Mathematics  Physics  Arts\n",
       "Glenn   H342          NaN     19.0  17.0\n",
       "Maria   H543         18.0     18.0   NaN\n",
       "Tim     H129          NaN      NaN  18.0\n",
       "Robert  H309         19.0     10.0  10.0\n",
       "Eric    H219         20.0      NaN  15.0"
      ]
     },
     "execution_count": 1,
     "metadata": {},
     "output_type": "execute_result"
    }
   ],
   "source": [
    "import pandas as pd\n",
    "import numpy as np\n",
    "\n",
    "df = pd.DataFrame({'ID': ['H342', 'H543', 'H129', 'H309', 'H219'],\n",
    "                   'Mathematics': [np.nan, 18, np.nan, 19, 20],\n",
    "                   'Physics': [19, 18, np.nan, 10, np.nan],\n",
    "                   'Arts': [17, np.nan, 18, 10, 15]},\n",
    "                  index=['Glenn', 'Maria', 'Tim', 'Robert', 'Eric'])\n",
    "df\n",
    "\n",
    "# In Python, np.nan is used to declare missing numerical values in an array \n",
    "# Since numpy is used to deal with arrays in Python, so we initialize this way"
   ]
  },
  {
   "cell_type": "markdown",
   "id": "a5e0f2be",
   "metadata": {},
   "source": [
    "### Task1: Locate all missing data"
   ]
  },
  {
   "cell_type": "code",
   "execution_count": 2,
   "id": "58a86910",
   "metadata": {},
   "outputs": [
    {
     "data": {
      "text/html": [
       "<div>\n",
       "<style scoped>\n",
       "    .dataframe tbody tr th:only-of-type {\n",
       "        vertical-align: middle;\n",
       "    }\n",
       "\n",
       "    .dataframe tbody tr th {\n",
       "        vertical-align: top;\n",
       "    }\n",
       "\n",
       "    .dataframe thead th {\n",
       "        text-align: right;\n",
       "    }\n",
       "</style>\n",
       "<table border=\"1\" class=\"dataframe\">\n",
       "  <thead>\n",
       "    <tr style=\"text-align: right;\">\n",
       "      <th></th>\n",
       "      <th>ID</th>\n",
       "      <th>Mathematics</th>\n",
       "      <th>Physics</th>\n",
       "      <th>Arts</th>\n",
       "    </tr>\n",
       "  </thead>\n",
       "  <tbody>\n",
       "    <tr>\n",
       "      <th>Glenn</th>\n",
       "      <td>False</td>\n",
       "      <td>True</td>\n",
       "      <td>False</td>\n",
       "      <td>False</td>\n",
       "    </tr>\n",
       "    <tr>\n",
       "      <th>Maria</th>\n",
       "      <td>False</td>\n",
       "      <td>False</td>\n",
       "      <td>False</td>\n",
       "      <td>True</td>\n",
       "    </tr>\n",
       "    <tr>\n",
       "      <th>Tim</th>\n",
       "      <td>False</td>\n",
       "      <td>True</td>\n",
       "      <td>True</td>\n",
       "      <td>False</td>\n",
       "    </tr>\n",
       "    <tr>\n",
       "      <th>Robert</th>\n",
       "      <td>False</td>\n",
       "      <td>False</td>\n",
       "      <td>False</td>\n",
       "      <td>False</td>\n",
       "    </tr>\n",
       "    <tr>\n",
       "      <th>Eric</th>\n",
       "      <td>False</td>\n",
       "      <td>False</td>\n",
       "      <td>True</td>\n",
       "      <td>False</td>\n",
       "    </tr>\n",
       "  </tbody>\n",
       "</table>\n",
       "</div>"
      ],
      "text/plain": [
       "           ID  Mathematics  Physics   Arts\n",
       "Glenn   False         True    False  False\n",
       "Maria   False        False    False   True\n",
       "Tim     False         True     True  False\n",
       "Robert  False        False    False  False\n",
       "Eric    False        False     True  False"
      ]
     },
     "execution_count": 2,
     "metadata": {},
     "output_type": "execute_result"
    }
   ],
   "source": [
    "t1 = df.isna()\n",
    "t1"
   ]
  },
  {
   "cell_type": "markdown",
   "id": "a4b7f50e",
   "metadata": {},
   "source": [
    "### Task2: For which students are there missing marks? For which courses are there missing marks? \n",
    "#### Find rows (or columns) with missing data? Give a list of rows and columns with missing data?"
   ]
  },
  {
   "cell_type": "code",
   "execution_count": 23,
   "id": "2dc369e7",
   "metadata": {},
   "outputs": [
    {
     "data": {
      "text/plain": [
       "Glenn      True\n",
       "Maria      True\n",
       "Tim        True\n",
       "Robert    False\n",
       "Eric       True\n",
       "dtype: bool"
      ]
     },
     "execution_count": 23,
     "metadata": {},
     "output_type": "execute_result"
    }
   ],
   "source": [
    "t2 = df.isna().any(axis=1)      # this means is there any missing data in rows?\n",
    "t2"
   ]
  },
  {
   "cell_type": "code",
   "execution_count": 24,
   "id": "145b0b1f",
   "metadata": {},
   "outputs": [
    {
     "data": {
      "text/plain": [
       "Glenn    True\n",
       "Maria    True\n",
       "Tim      True\n",
       "Eric     True\n",
       "dtype: bool"
      ]
     },
     "execution_count": 24,
     "metadata": {},
     "output_type": "execute_result"
    }
   ],
   "source": [
    "t2a = t2.loc[t2 == True]\n",
    "t2a"
   ]
  },
  {
   "cell_type": "code",
   "execution_count": 25,
   "id": "db346e61",
   "metadata": {},
   "outputs": [
    {
     "data": {
      "text/plain": [
       "['Glenn', 'Maria', 'Tim', 'Eric']"
      ]
     },
     "execution_count": 25,
     "metadata": {},
     "output_type": "execute_result"
    }
   ],
   "source": [
    "t2b = t2.loc[t2 == True].index.tolist()\n",
    "t2b"
   ]
  },
  {
   "cell_type": "markdown",
   "id": "4380e55f",
   "metadata": {},
   "source": [
    "### Task3: How many exams did each student miss? or how many students missed an specific exam?\n",
    "#### Count the number of missing data in each row or column"
   ]
  },
  {
   "cell_type": "code",
   "execution_count": 6,
   "id": "e608d563",
   "metadata": {},
   "outputs": [
    {
     "data": {
      "text/plain": [
       "Glenn     1\n",
       "Maria     1\n",
       "Tim       2\n",
       "Robert    0\n",
       "Eric      1\n",
       "dtype: int64"
      ]
     },
     "execution_count": 6,
     "metadata": {},
     "output_type": "execute_result"
    }
   ],
   "source": [
    "t3 = df.isna().sum(axis=1)\n",
    "t3"
   ]
  },
  {
   "cell_type": "code",
   "execution_count": 7,
   "id": "888b124b",
   "metadata": {},
   "outputs": [
    {
     "data": {
      "text/plain": [
       "Tim    2\n",
       "dtype: int64"
      ]
     },
     "execution_count": 7,
     "metadata": {},
     "output_type": "execute_result"
    }
   ],
   "source": [
    "t3.loc[t3 > 1]"
   ]
  },
  {
   "cell_type": "code",
   "execution_count": 26,
   "id": "45fabbbb",
   "metadata": {},
   "outputs": [
    {
     "data": {
      "text/plain": [
       "1"
      ]
     },
     "execution_count": 26,
     "metadata": {},
     "output_type": "execute_result"
    }
   ],
   "source": [
    "t3.loc['Eric']"
   ]
  },
  {
   "cell_type": "markdown",
   "id": "cce725b7",
   "metadata": {},
   "source": [
    "### Task4: Find out for which courses Tim did not receive a mark?\n",
    "#### Find out to which columns missing data in a row belong"
   ]
  },
  {
   "cell_type": "code",
   "execution_count": 9,
   "id": "a37d394f",
   "metadata": {},
   "outputs": [
    {
     "data": {
      "text/plain": [
       "ID             False\n",
       "Mathematics     True\n",
       "Physics         True\n",
       "Arts           False\n",
       "Name: Tim, dtype: bool"
      ]
     },
     "execution_count": 9,
     "metadata": {},
     "output_type": "execute_result"
    }
   ],
   "source": [
    "t4 = df.loc['Tim'].isna()\n",
    "t4"
   ]
  },
  {
   "cell_type": "code",
   "execution_count": 10,
   "id": "a487fdb7",
   "metadata": {},
   "outputs": [
    {
     "data": {
      "text/plain": [
       "['Mathematics', 'Physics']"
      ]
     },
     "execution_count": 10,
     "metadata": {},
     "output_type": "execute_result"
    }
   ],
   "source": [
    "t4b = t4.loc[t4 == True].index.tolist()\n",
    "t4b"
   ]
  },
  {
   "cell_type": "markdown",
   "id": "dc3c41c8",
   "metadata": {},
   "source": [
    "### Task5: Find out which students did not receive a mark for Arts?\n",
    "#### Find out to which rows missing data in a column belong"
   ]
  },
  {
   "cell_type": "code",
   "execution_count": 11,
   "id": "08e96e9a",
   "metadata": {},
   "outputs": [
    {
     "data": {
      "text/plain": [
       "Glenn     False\n",
       "Maria      True\n",
       "Tim       False\n",
       "Robert    False\n",
       "Eric      False\n",
       "Name: Arts, dtype: bool"
      ]
     },
     "execution_count": 11,
     "metadata": {},
     "output_type": "execute_result"
    }
   ],
   "source": [
    "t5 = df['Arts'].isna()\n",
    "t5"
   ]
  },
  {
   "cell_type": "code",
   "execution_count": 12,
   "id": "a2d669a6",
   "metadata": {},
   "outputs": [
    {
     "data": {
      "text/plain": [
       "['Maria']"
      ]
     },
     "execution_count": 12,
     "metadata": {},
     "output_type": "execute_result"
    }
   ],
   "source": [
    "t5a = t5.loc[t5 == True].index.tolist()\n",
    "t5a"
   ]
  },
  {
   "cell_type": "markdown",
   "id": "539054d0",
   "metadata": {},
   "source": [
    "### Task 6: Give a list of courses for which each student did not receive a mark\n",
    "#### Same as task 4 but for all rows"
   ]
  },
  {
   "cell_type": "code",
   "execution_count": 27,
   "id": "894da834",
   "metadata": {},
   "outputs": [
    {
     "name": "stdout",
     "output_type": "stream",
     "text": [
      "Glenn: ['Mathematics']\n",
      "Maria: ['Arts']\n",
      "Tim: ['Mathematics', 'Physics']\n",
      "Robert: []\n",
      "Eric: ['Physics']\n"
     ]
    }
   ],
   "source": [
    "names = df.index.tolist()\n",
    "for name in names:\n",
    "    series = df.loc[name].isna()\n",
    "    missing = series.loc[series == True].index.tolist()\n",
    "    print('{}: {}'.format(name, missing))"
   ]
  },
  {
   "cell_type": "markdown",
   "id": "cb61bd9b",
   "metadata": {},
   "source": [
    "### Task 7: Give a list of students with missing marks for each course\n",
    "#### Same as task 5 but for all columns"
   ]
  },
  {
   "cell_type": "code",
   "execution_count": 28,
   "id": "a6fc4632",
   "metadata": {},
   "outputs": [
    {
     "name": "stdout",
     "output_type": "stream",
     "text": [
      "ID: []\n",
      "Mathematics: ['Glenn', 'Tim']\n",
      "Physics: ['Tim', 'Eric']\n",
      "Arts: ['Maria']\n"
     ]
    }
   ],
   "source": [
    "cols = df.columns.tolist()\n",
    "for col in cols:\n",
    "    series = df[col].isna()\n",
    "    missing = series.loc[series == True].index.tolist()\n",
    "    print('{}: {}'.format(col, missing))"
   ]
  }
 ],
 "metadata": {
  "kernelspec": {
   "display_name": "Python 3 (ipykernel)",
   "language": "python",
   "name": "python3"
  },
  "language_info": {
   "codemirror_mode": {
    "name": "ipython",
    "version": 3
   },
   "file_extension": ".py",
   "mimetype": "text/x-python",
   "name": "python",
   "nbconvert_exporter": "python",
   "pygments_lexer": "ipython3",
   "version": "3.12.7"
  }
 },
 "nbformat": 4,
 "nbformat_minor": 5
}
